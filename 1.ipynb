{
 "cells": [
  {
   "cell_type": "markdown",
   "metadata": {},
   "source": [
    "### Why I say Chinese are so bad for learning programming?\n",
    "\n",
    "因为作为一门语言，它的侧重点不是简单直白，而是拐弯抹角、含蓄隐晦"
   ]
  },
  {
   "cell_type": "markdown",
   "metadata": {},
   "source": [
    "___"
   ]
  },
  {
   "cell_type": "markdown",
   "metadata": {},
   "source": [
    "### Why you should always use English? (讲英语的几个好处)\n",
    "\n",
    "1. **提升自信** (学英语会花费大量的时间和精力，如果你连这都能坚持下来，还有什么脑力活动是你不能做到的？\n",
    "\n",
    "2. **帮助理解** (对同一个事物用不同的方式去阐释，充分地理解事物间的差异，这是认识事物最有效的方法\n",
    "\n",
    "3. **获得更多资源** (你不会想要被垄断知识，你不会想要生活在一个封闭的圈子，你不会想做一只井底之蛙"
   ]
  },
  {
   "cell_type": "markdown",
   "metadata": {},
   "source": [
    "___"
   ]
  },
  {
   "cell_type": "markdown",
   "metadata": {},
   "source": [
    "### So？\n",
    "\n",
    "> 我不仅仅是在教你技术，还在教你如何学英语，怎样使用英语"
   ]
  },
  {
   "cell_type": "markdown",
   "metadata": {},
   "source": [
    "___"
   ]
  },
  {
   "cell_type": "markdown",
   "metadata": {},
   "source": [
    "### The benifits you can get from Video Tutorials (视频教学的缺优点)\n",
    "\n",
    "缺点：效率不够高、吸收速度较慢、受制于讲述者的口语表达能力\n",
    "\n",
    "优点：形象化、易于模仿，同时能清晰的表达人的思维过程(书写能力强的人也可以用文字表达清楚他们的想法)\n",
    "\n",
    "不管怎么说，都是看表达能力（但要和学校的语言教育区分开来，学校并不 care about what you can say actually)"
   ]
  },
  {
   "cell_type": "markdown",
   "metadata": {},
   "source": [
    "___"
   ]
  }
 ],
 "metadata": {
  "kernelspec": {
   "display_name": "Python 3",
   "language": "python",
   "name": "python3"
  },
  "language_info": {
   "codemirror_mode": {
    "name": "ipython",
    "version": 3
   },
   "file_extension": ".py",
   "mimetype": "text/x-python",
   "name": "python",
   "nbconvert_exporter": "python",
   "pygments_lexer": "ipython3",
   "version": "3.6.5"
  }
 },
 "nbformat": 4,
 "nbformat_minor": 2
}
