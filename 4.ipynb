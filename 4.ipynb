{
 "cells": [
  {
   "cell_type": "markdown",
   "metadata": {},
   "source": [
    "## Session 4: 选择一个开源框架 (Trying to find an open source ML project to help us do the repeated work)"
   ]
  },
  {
   "cell_type": "markdown",
   "metadata": {},
   "source": [
    "___"
   ]
  },
  {
   "cell_type": "markdown",
   "metadata": {},
   "source": [
    "### 开源的意义 (The meaning of open source)\n",
    "\n",
    "Make the world a better place.\n",
    "\n",
    "1. 让每个人都能根据自己的意愿去做到一些事 (让人人都有通过努力改变自己命运的能力)\n",
    "2. 让世界充满更多的可能性 (当每个人都能发挥自己的创造才能，世界将变得丰富多彩)\n",
    "3. 鞭策自己前进 (当你的技术不再具有垄断力，你必须进一步提升自己，去达到更高的境界)"
   ]
  },
  {
   "cell_type": "markdown",
   "metadata": {},
   "source": [
    "___"
   ]
  },
  {
   "cell_type": "markdown",
   "metadata": {},
   "source": [
    "### 坚持全球化的意义\n",
    "\n",
    "1. 取水不忘挖井人，要学会感恩 (**Who give me knowledge, who I work for**)\n",
    "\n",
    "2. 你不想成为一个自私自利的小人。本来是人人为我，我为人人的东西，你非要去吸血，破坏了生态链后大家都没得玩 (**比如迅雷，最终大家都得受制于它，它说什么无法下载什么就无法下载，人们自己葬送了自己的自由**)\n",
    "3. 狭义的民族主义就像野人，明明生10个孩子死了7个，还是坚持按自己的方式生孩子，并且还说现代人是邪恶的化身 (**因为野人们贪婪于当前能满足自身的欲望，看不到长远的未来，不知道`效率就是时间`、`时间就是金钱`**)\n",
    "5. 只有全球化才能更好地进行资源配置，发挥各自的特长，进而满足全球多样的需求\n",
    "6. 没有一个科学家不具有全球史观。 (**如果一个科学家不为全人类着想，那么他就是一个伪(假)科学家**) (作为补充的，坚持个人利益就无法坚持科学，因为科学坚持事实，而事实有时会触犯个人利益，你`必须站在人类的高度，才能坚持科学`)\n",
    "\n",
    "~~我很不明白，你免费用别人的东西，怎么还好意思说你自己很强、很叼，还到处炫耀；你要是真想炫耀，那你应该靠自己的努力做出一些伟大的东西~~"
   ]
  },
  {
   "cell_type": "markdown",
   "metadata": {},
   "source": [
    "___"
   ]
  },
  {
   "cell_type": "markdown",
   "metadata": {},
   "source": [
    "### 1. Search wildly  (疯狂地搜索)\n",
    "\n",
    "对于一个初学者，没有什么东西是不能接受的\n",
    "\n",
    "唯一不能接受的就是信息的匮乏\n",
    "\n",
    "对比各大搜索引擎，最终我们得出一个结论，只有谷歌是真心想让我们得到资源"
   ]
  },
  {
   "cell_type": "markdown",
   "metadata": {},
   "source": [
    "#### Google https://www.google.com"
   ]
  },
  {
   "cell_type": "markdown",
   "metadata": {},
   "source": [
    "___"
   ]
  },
  {
   "cell_type": "markdown",
   "metadata": {},
   "source": [
    "### 2. Search carefully (细心地搜索)\n",
    "\n",
    "选择一个好项目作为开始，是成功的第一步"
   ]
  },
  {
   "cell_type": "markdown",
   "metadata": {},
   "source": [
    "#### Github https://github.com"
   ]
  },
  {
   "cell_type": "markdown",
   "metadata": {},
   "source": [
    "___"
   ]
  },
  {
   "cell_type": "markdown",
   "metadata": {},
   "source": [
    "### 3. Choose the best one (选择最好的那一个)\n",
    "\n",
    "选择一个好项目，是成功的第一步"
   ]
  },
  {
   "cell_type": "code",
   "execution_count": 3,
   "metadata": {},
   "outputs": [
    {
     "name": "stdout",
     "output_type": "stream",
     "text": [
      "0.7949255542167791\n"
     ]
    }
   ],
   "source": [
    "import xmnlp as xm\n",
    "\n",
    "doc = \"\"\"选择一个好项目，是成功的第一步\"\"\"\n",
    "\n",
    "print(xm.sentiment(doc))"
   ]
  },
  {
   "cell_type": "markdown",
   "metadata": {},
   "source": [
    "___"
   ]
  }
 ],
 "metadata": {
  "kernelspec": {
   "display_name": "Python 3",
   "language": "python",
   "name": "python3"
  },
  "language_info": {
   "codemirror_mode": {
    "name": "ipython",
    "version": 3
   },
   "file_extension": ".py",
   "mimetype": "text/x-python",
   "name": "python",
   "nbconvert_exporter": "python",
   "pygments_lexer": "ipython3",
   "version": "3.6.5"
  }
 },
 "nbformat": 4,
 "nbformat_minor": 2
}
