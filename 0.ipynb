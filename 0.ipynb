{
 "cells": [
  {
   "cell_type": "markdown",
   "metadata": {},
   "source": [
    "### 前言\n",
    "\n",
    "1. 这世界上没有捷径，只有等价交换\n",
    "2. 老师只是给你指明方向，更多的，要你自己去探索"
   ]
  },
  {
   "cell_type": "markdown",
   "metadata": {},
   "source": [
    "___"
   ]
  },
  {
   "cell_type": "markdown",
   "metadata": {},
   "source": [
    "### 过程\n",
    "\n",
    "\n",
    "#### 为什么要从 Windows 转到 Linux？\n",
    "因为 Windows 不适合作开发，一条命令行可以搞定的事，Windows要点无数下\n",
    "___\n",
    "\n",
    "#### 什么是 Linux?\n",
    "Linux is a family of free and open-source software operating systems \n",
    "___\n",
    "\n",
    "#### 哪一种具体的操作系统最符合我们的需要？\n",
    "Lubuntu （简洁、高效、兼容性好）\n",
    "___\n",
    "\n",
    "#### 如何安装？\n",
    "1. 先下载, (https://lubuntu.net)\n",
    "2. 根据实际情况选择`直接装在硬盘(单系统或双系统)`或`用虚拟机进行安装`\n",
    "\n",
    "Keywords: USB系统装机、装 Linux 与 Windows 双系统指南\n",
    "\n",
    "Sources：https://www.jianshu.com/p/0fa301d892ab\n",
    "___\n",
    "\n",
    "#### 基础 Linux 命令\n",
    "`ls`: 打印出当前目录的所有文件\n",
    "\n",
    "`rm 2018.png`: 删除一个名叫`2018.png`的文件\n",
    "\n",
    "`cd Codes`: 移动到一个名叫`Codes`的文件夹\n",
    "\n",
    "`mkdir play` 创建一个名为`play`的文件夹\n",
    "\n",
    "`vi hi.txt`：编辑一个名为`hi.txt`的文本文件\n",
    "\n",
    "Keywords: linux 基础命令\n",
    "\n",
    "Sources: https://medium.com/@yingshaoxo/basic-vim-commands-3a20d224df5d\n",
    "___\n",
    "\n",
    "#### 基础窗口快捷键\n",
    "`alt + tab`: 切换窗口\n",
    "\n",
    "`alt + F4`: 关闭窗口\n",
    "\n",
    "`win + <--`: 窗口移到左边\n",
    "\n",
    "`win + -->`: 窗口移到左边\n",
    "\n",
    "`win + d`: 显示桌面\n",
    "___\n",
    "\n",
    "#### 高级 Linux 命令\n",
    "\n",
    "用什么，搜什么\n",
    "___\n",
    "\n",
    "#### 日常生活\n",
    "\n",
    "Keep your dream as always.\n"
   ]
  },
  {
   "cell_type": "markdown",
   "metadata": {},
   "source": [
    "___"
   ]
  },
  {
   "cell_type": "markdown",
   "metadata": {},
   "source": [
    "### 总结\n",
    "\n",
    "1. 安装 Ubuntu (http://cdimage.ubuntu.com/lubuntu/releases/18.04/release/lubuntu-18.04-desktop-amd64.iso)\n",
    "\n",
    "2. 学习一些基本的 Linux 命令\n",
    "```\n",
    "ls\n",
    "cd\n",
    "mkdir\n",
    "rm\n",
    "mv\n",
    "cp\n",
    "```"
   ]
  }
 ],
 "metadata": {
  "kernelspec": {
   "display_name": "Python 3",
   "language": "python",
   "name": "python3"
  },
  "language_info": {
   "codemirror_mode": {
    "name": "ipython",
    "version": 3
   },
   "file_extension": ".py",
   "mimetype": "text/x-python",
   "name": "python",
   "nbconvert_exporter": "python",
   "pygments_lexer": "ipython3",
   "version": "3.6.5"
  }
 },
 "nbformat": 4,
 "nbformat_minor": 2
}
